{
 "cells": [
  {
   "cell_type": "code",
   "execution_count": 1,
   "metadata": {},
   "outputs": [],
   "source": [
    "import os\n",
    "import random\n",
    "import numpy as np\n",
    "import pandas as pd\n",
    "import matplotlib.pyplot as plt\n",
    "import random\n",
    "from shutil import copyfile\n",
    "\n",
    "import tensorflow as tf\n",
    "from keras import backend as K\n",
    "from keras.models import Model\n",
    "from keras.layers import Input, Conv2D, MaxPooling2D, Reshape, Bidirectional, LSTM, Dense, Lambda, Activation, BatchNormalization, Dropout"
   ]
  },
  {
   "cell_type": "code",
   "execution_count": 2,
   "metadata": {},
   "outputs": [],
   "source": [
    "data_train = pd.read_csv('written_name_train_v2.csv')\n",
    "data_valid = pd.read_csv('written_name_validation_v2.csv')\n",
    "data_test = pd.read_csv('written_name_test_v2.csv')"
   ]
  },
  {
   "cell_type": "code",
   "execution_count": 3,
   "metadata": {},
   "outputs": [
    {
     "data": {
      "text/html": [
       "<div>\n",
       "<style scoped>\n",
       "    .dataframe tbody tr th:only-of-type {\n",
       "        vertical-align: middle;\n",
       "    }\n",
       "\n",
       "    .dataframe tbody tr th {\n",
       "        vertical-align: top;\n",
       "    }\n",
       "\n",
       "    .dataframe thead th {\n",
       "        text-align: right;\n",
       "    }\n",
       "</style>\n",
       "<table border=\"1\" class=\"dataframe\">\n",
       "  <thead>\n",
       "    <tr style=\"text-align: right;\">\n",
       "      <th></th>\n",
       "      <th>FILENAME</th>\n",
       "      <th>IDENTITY</th>\n",
       "    </tr>\n",
       "  </thead>\n",
       "  <tbody>\n",
       "    <tr>\n",
       "      <th>0</th>\n",
       "      <td>TRAIN_00001.jpg</td>\n",
       "      <td>BALTHAZAR</td>\n",
       "    </tr>\n",
       "    <tr>\n",
       "      <th>1</th>\n",
       "      <td>TRAIN_00002.jpg</td>\n",
       "      <td>SIMON</td>\n",
       "    </tr>\n",
       "    <tr>\n",
       "      <th>2</th>\n",
       "      <td>TRAIN_00003.jpg</td>\n",
       "      <td>BENES</td>\n",
       "    </tr>\n",
       "    <tr>\n",
       "      <th>3</th>\n",
       "      <td>TRAIN_00004.jpg</td>\n",
       "      <td>LA LOVE</td>\n",
       "    </tr>\n",
       "    <tr>\n",
       "      <th>4</th>\n",
       "      <td>TRAIN_00005.jpg</td>\n",
       "      <td>DAPHNE</td>\n",
       "    </tr>\n",
       "  </tbody>\n",
       "</table>\n",
       "</div>"
      ],
      "text/plain": [
       "          FILENAME   IDENTITY\n",
       "0  TRAIN_00001.jpg  BALTHAZAR\n",
       "1  TRAIN_00002.jpg      SIMON\n",
       "2  TRAIN_00003.jpg      BENES\n",
       "3  TRAIN_00004.jpg    LA LOVE\n",
       "4  TRAIN_00005.jpg     DAPHNE"
      ]
     },
     "execution_count": 3,
     "metadata": {},
     "output_type": "execute_result"
    }
   ],
   "source": [
    "data_train.head()"
   ]
  },
  {
   "cell_type": "code",
   "execution_count": 4,
   "metadata": {},
   "outputs": [
    {
     "name": "stdout",
     "output_type": "stream",
     "text": [
      "Jumlah NAN dalam train set      :  565\n",
      "Jumlah NAN dalam validation set :  78\n",
      "Jumlah NAN dalam validation set :  70\n"
     ]
    }
   ],
   "source": [
    "print(\"Jumlah NAN dalam train set      : \", data_train['IDENTITY'].isnull().sum())\n",
    "print(\"Jumlah NAN dalam validation set : \", data_valid['IDENTITY'].isnull().sum())\n",
    "print(\"Jumlah NAN dalam validation set : \", data_test['IDENTITY'].isnull().sum())"
   ]
  },
  {
   "cell_type": "code",
   "execution_count": 5,
   "metadata": {},
   "outputs": [],
   "source": [
    "data_train.dropna(axis=0, inplace = True)\n",
    "data_valid.dropna(axis=0, inplace = True)\n",
    "data_test.dropna(axis=0, inplace = True)"
   ]
  },
  {
   "cell_type": "code",
   "execution_count": 6,
   "metadata": {},
   "outputs": [
    {
     "name": "stdout",
     "output_type": "stream",
     "text": [
      "330396\n",
      "41292\n",
      "41300\n"
     ]
    }
   ],
   "source": [
    "print(len(data_train))\n",
    "print(len(data_valid))\n",
    "print(len(data_test))"
   ]
  },
  {
   "cell_type": "code",
   "execution_count": 7,
   "metadata": {},
   "outputs": [
    {
     "name": "stdout",
     "output_type": "stream",
     "text": [
      "Jumlah Not Capital dalam train set      :  30\n",
      "Jumlah Not Capital dalam validation set :  2\n",
      "Jumlah Not Capital dalam test set :  4\n"
     ]
    }
   ],
   "source": [
    "print(\"Jumlah Not Capital dalam train set      : \", len(data_train) - data_train['IDENTITY'].str.isupper().sum())\n",
    "print(\"Jumlah Not Capital dalam validation set : \", len(data_valid) - data_valid['IDENTITY'].str.isupper().sum())\n",
    "print(\"Jumlah Not Capital dalam test set : \", len(data_test) - data_test['IDENTITY'].str.isupper().sum())"
   ]
  },
  {
   "cell_type": "code",
   "execution_count": 8,
   "metadata": {},
   "outputs": [
    {
     "name": "stdout",
     "output_type": "stream",
     "text": [
      "102\n",
      "12\n",
      "11\n"
     ]
    }
   ],
   "source": [
    "print(len(data_train[data_train['IDENTITY'] == 'UNREADABLE']))\n",
    "print(len(data_valid[data_valid['IDENTITY'] == 'UNREADABLE']))\n",
    "print(len(data_test[data_test['IDENTITY'] == 'UNREADABLE']))"
   ]
  },
  {
   "cell_type": "code",
   "execution_count": 9,
   "metadata": {},
   "outputs": [
    {
     "name": "stdout",
     "output_type": "stream",
     "text": [
      "Requirement already satisfied: opencv-python in c:\\programdata\\anaconda3\\lib\\site-packages (4.6.0.66)\n",
      "Requirement already satisfied: numpy>=1.17.3; python_version >= \"3.8\" in c:\\users\\dikky kurniawan\\appdata\\roaming\\python\\python38\\site-packages (from opencv-python) (1.22.3)\n"
     ]
    }
   ],
   "source": [
    "!pip install opencv-python\n",
    "import cv2"
   ]
  },
  {
   "cell_type": "code",
   "execution_count": 10,
   "metadata": {},
   "outputs": [
    {
     "data": {
      "image/png": "[encoded data removed]",
      "text/plain": [
       "<Figure size 1080x720 with 6 Axes>"
      ]
     },
     "metadata": {
      "needs_background": "light"
     },
     "output_type": "display_data"
    }
   ],
   "source": [
    "unreadable = data_train[data_train['IDENTITY'] == 'UNREADABLE']\n",
    "unreadable.reset_index(inplace = True, drop=True)\n",
    "\n",
    "plt.figure(figsize=(15, 10))\n",
    "\n",
    "for i in range(6):\n",
    "    ax = plt.subplot(2, 3, i+1)\n",
    "    img_dir = 'train_v2/train/'+unreadable.loc[i, 'FILENAME']\n",
    "    image = cv2.imread(img_dir, cv2.IMREAD_GRAYSCALE)\n",
    "    plt.imshow(image, cmap = 'gray')\n",
    "    plt.title(unreadable.loc[i, 'IDENTITY'], fontsize=12)\n",
    "    plt.axis('off')\n",
    "\n",
    "plt.subplots_adjust(wspace=0.2, hspace=-0.8)"
   ]
  },
  {
   "cell_type": "code",
   "execution_count": 11,
   "metadata": {},
   "outputs": [
    {
     "data": {
      "text/html": [
       "<div>\n",
       "<style scoped>\n",
       "    .dataframe tbody tr th:only-of-type {\n",
       "        vertical-align: middle;\n",
       "    }\n",
       "\n",
       "    .dataframe tbody tr th {\n",
       "        vertical-align: top;\n",
       "    }\n",
       "\n",
       "    .dataframe thead th {\n",
       "        text-align: right;\n",
       "    }\n",
       "</style>\n",
       "<table border=\"1\" class=\"dataframe\">\n",
       "  <thead>\n",
       "    <tr style=\"text-align: right;\">\n",
       "      <th></th>\n",
       "      <th>FILENAME</th>\n",
       "      <th>IDENTITY</th>\n",
       "    </tr>\n",
       "  </thead>\n",
       "  <tbody>\n",
       "    <tr>\n",
       "      <th>3891</th>\n",
       "      <td>TRAIN_03892.jpg</td>\n",
       "      <td>Rosso</td>\n",
       "    </tr>\n",
       "    <tr>\n",
       "      <th>10623</th>\n",
       "      <td>TRAIN_10624.jpg</td>\n",
       "      <td>yucel</td>\n",
       "    </tr>\n",
       "    <tr>\n",
       "      <th>14490</th>\n",
       "      <td>TRAIN_14491.jpg</td>\n",
       "      <td>poterlot</td>\n",
       "    </tr>\n",
       "    <tr>\n",
       "      <th>20507</th>\n",
       "      <td>TRAIN_20508.jpg</td>\n",
       "      <td>zucchi</td>\n",
       "    </tr>\n",
       "    <tr>\n",
       "      <th>23427</th>\n",
       "      <td>TRAIN_23428.jpg</td>\n",
       "      <td>-------</td>\n",
       "    </tr>\n",
       "    <tr>\n",
       "      <th>28125</th>\n",
       "      <td>TRAIN_28126.jpg</td>\n",
       "      <td>lemont</td>\n",
       "    </tr>\n",
       "    <tr>\n",
       "      <th>96559</th>\n",
       "      <td>TRAIN_96560.jpg</td>\n",
       "      <td>-</td>\n",
       "    </tr>\n",
       "    <tr>\n",
       "      <th>103472</th>\n",
       "      <td>TRAIN_103473.jpg</td>\n",
       "      <td>borne</td>\n",
       "    </tr>\n",
       "    <tr>\n",
       "      <th>128835</th>\n",
       "      <td>TRAIN_128836.jpg</td>\n",
       "      <td>guibal</td>\n",
       "    </tr>\n",
       "    <tr>\n",
       "      <th>140606</th>\n",
       "      <td>TRAIN_140607.jpg</td>\n",
       "      <td>-</td>\n",
       "    </tr>\n",
       "    <tr>\n",
       "      <th>141102</th>\n",
       "      <td>TRAIN_141103.jpg</td>\n",
       "      <td>--</td>\n",
       "    </tr>\n",
       "    <tr>\n",
       "      <th>175638</th>\n",
       "      <td>TRAIN_175639.jpg</td>\n",
       "      <td>marzo</td>\n",
       "    </tr>\n",
       "    <tr>\n",
       "      <th>203942</th>\n",
       "      <td>TRAIN_203943.jpg</td>\n",
       "      <td>-</td>\n",
       "    </tr>\n",
       "    <tr>\n",
       "      <th>206690</th>\n",
       "      <td>TRAIN_206691.jpg</td>\n",
       "      <td>Ferre</td>\n",
       "    </tr>\n",
       "    <tr>\n",
       "      <th>214736</th>\n",
       "      <td>TRAIN_214737.jpg</td>\n",
       "      <td>oliveira</td>\n",
       "    </tr>\n",
       "    <tr>\n",
       "      <th>215954</th>\n",
       "      <td>TRAIN_215955.jpg</td>\n",
       "      <td>-</td>\n",
       "    </tr>\n",
       "    <tr>\n",
       "      <th>220355</th>\n",
       "      <td>TRAIN_220356.jpg</td>\n",
       "      <td>Keppler</td>\n",
       "    </tr>\n",
       "    <tr>\n",
       "      <th>221520</th>\n",
       "      <td>TRAIN_221521.jpg</td>\n",
       "      <td>-</td>\n",
       "    </tr>\n",
       "    <tr>\n",
       "      <th>229195</th>\n",
       "      <td>TRAIN_229196.jpg</td>\n",
       "      <td>fillat</td>\n",
       "    </tr>\n",
       "    <tr>\n",
       "      <th>249841</th>\n",
       "      <td>TRAIN_249842.jpg</td>\n",
       "      <td>-------</td>\n",
       "    </tr>\n",
       "    <tr>\n",
       "      <th>254492</th>\n",
       "      <td>TRAIN_254493.jpg</td>\n",
       "      <td>-----------------</td>\n",
       "    </tr>\n",
       "    <tr>\n",
       "      <th>269558</th>\n",
       "      <td>TRAIN_269559.jpg</td>\n",
       "      <td>-</td>\n",
       "    </tr>\n",
       "    <tr>\n",
       "      <th>273491</th>\n",
       "      <td>TRAIN_273492.jpg</td>\n",
       "      <td>pascal</td>\n",
       "    </tr>\n",
       "    <tr>\n",
       "      <th>274859</th>\n",
       "      <td>TRAIN_274860.jpg</td>\n",
       "      <td>Raffo</td>\n",
       "    </tr>\n",
       "    <tr>\n",
       "      <th>277107</th>\n",
       "      <td>TRAIN_277108.jpg</td>\n",
       "      <td>-</td>\n",
       "    </tr>\n",
       "    <tr>\n",
       "      <th>282996</th>\n",
       "      <td>TRAIN_282997.jpg</td>\n",
       "      <td>--</td>\n",
       "    </tr>\n",
       "    <tr>\n",
       "      <th>283303</th>\n",
       "      <td>TRAIN_283304.jpg</td>\n",
       "      <td>hostalery</td>\n",
       "    </tr>\n",
       "    <tr>\n",
       "      <th>291753</th>\n",
       "      <td>TRAIN_291754.jpg</td>\n",
       "      <td>-</td>\n",
       "    </tr>\n",
       "    <tr>\n",
       "      <th>294671</th>\n",
       "      <td>TRAIN_294672.jpg</td>\n",
       "      <td>cribier</td>\n",
       "    </tr>\n",
       "    <tr>\n",
       "      <th>310736</th>\n",
       "      <td>TRAIN_310737.jpg</td>\n",
       "      <td>tabare</td>\n",
       "    </tr>\n",
       "  </tbody>\n",
       "</table>\n",
       "</div>"
      ],
      "text/plain": [
       "                FILENAME           IDENTITY\n",
       "3891     TRAIN_03892.jpg              Rosso\n",
       "10623    TRAIN_10624.jpg              yucel\n",
       "14490    TRAIN_14491.jpg           poterlot\n",
       "20507    TRAIN_20508.jpg             zucchi\n",
       "23427    TRAIN_23428.jpg            -------\n",
       "28125    TRAIN_28126.jpg             lemont\n",
       "96559    TRAIN_96560.jpg                  -\n",
       "103472  TRAIN_103473.jpg              borne\n",
       "128835  TRAIN_128836.jpg             guibal\n",
       "140606  TRAIN_140607.jpg                  -\n",
       "141102  TRAIN_141103.jpg                 --\n",
       "175638  TRAIN_175639.jpg              marzo\n",
       "203942  TRAIN_203943.jpg                  -\n",
       "206690  TRAIN_206691.jpg              Ferre\n",
       "214736  TRAIN_214737.jpg           oliveira\n",
       "215954  TRAIN_215955.jpg                  -\n",
       "220355  TRAIN_220356.jpg            Keppler\n",
       "221520  TRAIN_221521.jpg                  -\n",
       "229195  TRAIN_229196.jpg             fillat\n",
       "249841  TRAIN_249842.jpg            -------\n",
       "254492  TRAIN_254493.jpg  -----------------\n",
       "269558  TRAIN_269559.jpg                  -\n",
       "273491  TRAIN_273492.jpg             pascal\n",
       "274859  TRAIN_274860.jpg              Raffo\n",
       "277107  TRAIN_277108.jpg                  -\n",
       "282996  TRAIN_282997.jpg                 --\n",
       "283303  TRAIN_283304.jpg          hostalery\n",
       "291753  TRAIN_291754.jpg                  -\n",
       "294671  TRAIN_294672.jpg            cribier\n",
       "310736  TRAIN_310737.jpg             tabare"
      ]
     },
     "execution_count": 11,
     "metadata": {},
     "output_type": "execute_result"
    }
   ],
   "source": [
    "data_train[~data_train['IDENTITY'].str.isupper()]"
   ]
  },
  {
   "cell_type": "code",
   "execution_count": 12,
   "metadata": {},
   "outputs": [
    {
     "data": {
      "image/png": "[encoded data removed]",
      "text/plain": [
       "<Figure size 720x3600 with 20 Axes>"
      ]
     },
     "metadata": {
      "needs_background": "light"
     },
     "output_type": "display_data"
    }
   ],
   "source": [
    "train_lower = data_train[~data_train['IDENTITY'].str.isupper()]\n",
    "train_lower.reset_index(inplace = True, drop=True)\n",
    "\n",
    "plt.figure(figsize=(10, 50))\n",
    "\n",
    "for i in range(20):\n",
    "    ax = plt.subplot(10, 2, i+1)\n",
    "    img_dir = 'train_v2/train/'+train_lower.loc[i, 'FILENAME']\n",
    "    image = cv2.imread(img_dir, cv2.IMREAD_GRAYSCALE)\n",
    "    plt.imshow(image, cmap = 'gray')\n",
    "    plt.title(train_lower.loc[i, 'IDENTITY'], fontsize=12)\n",
    "    plt.axis('off')\n",
    "\n",
    "plt.subplots_adjust(wspace=0.2, hspace=-0.8)"
   ]
  },
  {
   "cell_type": "code",
   "execution_count": 13,
   "metadata": {},
   "outputs": [
    {
     "data": {
      "image/png": "[encoded data removed]",
      "text/plain": [
       "<Figure size 720x720 with 2 Axes>"
      ]
     },
     "metadata": {
      "needs_background": "light"
     },
     "output_type": "display_data"
    }
   ],
   "source": [
    "valid_lower = data_valid[~data_valid['IDENTITY'].str.isupper()]\n",
    "valid_lower.reset_index(inplace = True, drop=True)\n",
    "\n",
    "plt.figure(figsize=(10, 10))\n",
    "\n",
    "for i in range(2):\n",
    "    ax = plt.subplot(1, 2, i+1)\n",
    "    img_dir = 'validation_v2/validation/'+valid_lower.loc[i, 'FILENAME']\n",
    "    image = cv2.imread(img_dir, cv2.IMREAD_GRAYSCALE)\n",
    "    plt.imshow(image, cmap = 'gray')\n",
    "    plt.title(valid_lower.loc[i, 'IDENTITY'], fontsize=12)\n",
    "    plt.axis('off')\n",
    "\n",
    "plt.subplots_adjust(wspace=0.2, hspace=-0.8)"
   ]
  },
  {
   "cell_type": "code",
   "execution_count": 14,
   "metadata": {},
   "outputs": [
    {
     "data": {
      "image/png": "[encoded data removed]",
      "text/plain": [
       "<Figure size 720x720 with 4 Axes>"
      ]
     },
     "metadata": {
      "needs_background": "light"
     },
     "output_type": "display_data"
    }
   ],
   "source": [
    "test_lower = data_test[~data_test['IDENTITY'].str.isupper()]\n",
    "test_lower.reset_index(inplace = True, drop=True)\n",
    "\n",
    "plt.figure(figsize=(10, 10))\n",
    "\n",
    "for i in range(4):\n",
    "    ax = plt.subplot(2, 2, i+1)\n",
    "    img_dir = 'test_v2/test/'+test_lower.loc[i, 'FILENAME']\n",
    "    image = cv2.imread(img_dir, cv2.IMREAD_GRAYSCALE)\n",
    "    plt.imshow(image, cmap = 'gray')\n",
    "    plt.title(test_lower.loc[i, 'IDENTITY'], fontsize=12)\n",
    "    plt.axis('off')\n",
    "\n",
    "plt.subplots_adjust(wspace=0.2, hspace=-0.8)"
   ]
  },
  {
   "cell_type": "code",
   "execution_count": 15,
   "metadata": {},
   "outputs": [],
   "source": [
    "data_train['IDENTITY'] = data_train['IDENTITY'].str.upper()\n",
    "data_valid['IDENTITY'] = data_valid['IDENTITY'].str.upper()\n",
    "data_test['IDENTITY'] = data_test['IDENTITY'].str.upper()"
   ]
  },
  {
   "cell_type": "code",
   "execution_count": 16,
   "metadata": {},
   "outputs": [
    {
     "data": {
      "text/html": [
       "<div>\n",
       "<style scoped>\n",
       "    .dataframe tbody tr th:only-of-type {\n",
       "        vertical-align: middle;\n",
       "    }\n",
       "\n",
       "    .dataframe tbody tr th {\n",
       "        vertical-align: top;\n",
       "    }\n",
       "\n",
       "    .dataframe thead th {\n",
       "        text-align: right;\n",
       "    }\n",
       "</style>\n",
       "<table border=\"1\" class=\"dataframe\">\n",
       "  <thead>\n",
       "    <tr style=\"text-align: right;\">\n",
       "      <th></th>\n",
       "      <th>FILENAME</th>\n",
       "      <th>IDENTITY</th>\n",
       "    </tr>\n",
       "  </thead>\n",
       "  <tbody>\n",
       "    <tr>\n",
       "      <th>23427</th>\n",
       "      <td>TRAIN_23428.jpg</td>\n",
       "      <td>-------</td>\n",
       "    </tr>\n",
       "    <tr>\n",
       "      <th>96559</th>\n",
       "      <td>TRAIN_96560.jpg</td>\n",
       "      <td>-</td>\n",
       "    </tr>\n",
       "    <tr>\n",
       "      <th>140606</th>\n",
       "      <td>TRAIN_140607.jpg</td>\n",
       "      <td>-</td>\n",
       "    </tr>\n",
       "    <tr>\n",
       "      <th>141102</th>\n",
       "      <td>TRAIN_141103.jpg</td>\n",
       "      <td>--</td>\n",
       "    </tr>\n",
       "    <tr>\n",
       "      <th>203942</th>\n",
       "      <td>TRAIN_203943.jpg</td>\n",
       "      <td>-</td>\n",
       "    </tr>\n",
       "    <tr>\n",
       "      <th>215954</th>\n",
       "      <td>TRAIN_215955.jpg</td>\n",
       "      <td>-</td>\n",
       "    </tr>\n",
       "    <tr>\n",
       "      <th>221520</th>\n",
       "      <td>TRAIN_221521.jpg</td>\n",
       "      <td>-</td>\n",
       "    </tr>\n",
       "    <tr>\n",
       "      <th>249841</th>\n",
       "      <td>TRAIN_249842.jpg</td>\n",
       "      <td>-------</td>\n",
       "    </tr>\n",
       "    <tr>\n",
       "      <th>254492</th>\n",
       "      <td>TRAIN_254493.jpg</td>\n",
       "      <td>-----------------</td>\n",
       "    </tr>\n",
       "    <tr>\n",
       "      <th>269558</th>\n",
       "      <td>TRAIN_269559.jpg</td>\n",
       "      <td>-</td>\n",
       "    </tr>\n",
       "    <tr>\n",
       "      <th>277107</th>\n",
       "      <td>TRAIN_277108.jpg</td>\n",
       "      <td>-</td>\n",
       "    </tr>\n",
       "    <tr>\n",
       "      <th>282996</th>\n",
       "      <td>TRAIN_282997.jpg</td>\n",
       "      <td>--</td>\n",
       "    </tr>\n",
       "    <tr>\n",
       "      <th>291753</th>\n",
       "      <td>TRAIN_291754.jpg</td>\n",
       "      <td>-</td>\n",
       "    </tr>\n",
       "  </tbody>\n",
       "</table>\n",
       "</div>"
      ],
      "text/plain": [
       "                FILENAME           IDENTITY\n",
       "23427    TRAIN_23428.jpg            -------\n",
       "96559    TRAIN_96560.jpg                  -\n",
       "140606  TRAIN_140607.jpg                  -\n",
       "141102  TRAIN_141103.jpg                 --\n",
       "203942  TRAIN_203943.jpg                  -\n",
       "215954  TRAIN_215955.jpg                  -\n",
       "221520  TRAIN_221521.jpg                  -\n",
       "249841  TRAIN_249842.jpg            -------\n",
       "254492  TRAIN_254493.jpg  -----------------\n",
       "269558  TRAIN_269559.jpg                  -\n",
       "277107  TRAIN_277108.jpg                  -\n",
       "282996  TRAIN_282997.jpg                 --\n",
       "291753  TRAIN_291754.jpg                  -"
      ]
     },
     "execution_count": 16,
     "metadata": {},
     "output_type": "execute_result"
    }
   ],
   "source": [
    "data_train[~data_train['IDENTITY'].str.isupper()]"
   ]
  },
  {
   "cell_type": "code",
   "execution_count": 20,
   "metadata": {},
   "outputs": [
    {
     "data": {
      "text/html": [
       "<div>\n",
       "<style scoped>\n",
       "    .dataframe tbody tr th:only-of-type {\n",
       "        vertical-align: middle;\n",
       "    }\n",
       "\n",
       "    .dataframe tbody tr th {\n",
       "        vertical-align: top;\n",
       "    }\n",
       "\n",
       "    .dataframe thead th {\n",
       "        text-align: right;\n",
       "    }\n",
       "</style>\n",
       "<table border=\"1\" class=\"dataframe\">\n",
       "  <thead>\n",
       "    <tr style=\"text-align: right;\">\n",
       "      <th></th>\n",
       "      <th>FILENAME</th>\n",
       "      <th>IDENTITY</th>\n",
       "    </tr>\n",
       "  </thead>\n",
       "  <tbody>\n",
       "    <tr>\n",
       "      <th>32259</th>\n",
       "      <td>TEST_32260.jpg</td>\n",
       "      <td>-</td>\n",
       "    </tr>\n",
       "  </tbody>\n",
       "</table>\n",
       "</div>"
      ],
      "text/plain": [
       "             FILENAME IDENTITY\n",
       "32259  TEST_32260.jpg        -"
      ]
     },
     "execution_count": 20,
     "metadata": {},
     "output_type": "execute_result"
    }
   ],
   "source": [
    "data_test[~data_test['IDENTITY'].str.isupper()]"
   ]
  },
  {
   "cell_type": "code",
   "execution_count": 22,
   "metadata": {},
   "outputs": [
    {
     "data": {
      "text/html": [
       "<div>\n",
       "<style scoped>\n",
       "    .dataframe tbody tr th:only-of-type {\n",
       "        vertical-align: middle;\n",
       "    }\n",
       "\n",
       "    .dataframe tbody tr th {\n",
       "        vertical-align: top;\n",
       "    }\n",
       "\n",
       "    .dataframe thead th {\n",
       "        text-align: right;\n",
       "    }\n",
       "</style>\n",
       "<table border=\"1\" class=\"dataframe\">\n",
       "  <thead>\n",
       "    <tr style=\"text-align: right;\">\n",
       "      <th></th>\n",
       "      <th>FILENAME</th>\n",
       "      <th>IDENTITY</th>\n",
       "    </tr>\n",
       "  </thead>\n",
       "  <tbody>\n",
       "  </tbody>\n",
       "</table>\n",
       "</div>"
      ],
      "text/plain": [
       "Empty DataFrame\n",
       "Columns: [FILENAME, IDENTITY]\n",
       "Index: []"
      ]
     },
     "execution_count": 22,
     "metadata": {},
     "output_type": "execute_result"
    }
   ],
   "source": [
    "data_valid[~data_valid['IDENTITY'].str.isupper()]"
   ]
  },
  {
   "cell_type": "code",
   "execution_count": 25,
   "metadata": {},
   "outputs": [],
   "source": [
    "data_train.loc[~data_train['IDENTITY'].str.isupper(), \"IDENTITY\"] = 'UNREADABLE'\n",
    "data_valid.loc[~data_valid['IDENTITY'].str.isupper(), \"IDENTITY\"] = 'UNREADABLE'\n",
    "data_test.loc[~data_test['IDENTITY'].str.isupper(), \"IDENTITY\"] = 'UNREADABLE'"
   ]
  },
  {
   "cell_type": "code",
   "execution_count": 43,
   "metadata": {},
   "outputs": [
    {
     "name": "stdout",
     "output_type": "stream",
     "text": [
      "115\n",
      "12\n",
      "12\n"
     ]
    }
   ],
   "source": [
    "print(len(data_train[data_train['IDENTITY'] == 'UNREADABLE']))\n",
    "print(len(data_valid[data_valid['IDENTITY'] == 'UNREADABLE']))\n",
    "print(len(data_test[data_test['IDENTITY'] == 'UNREADABLE']))"
   ]
  },
  {
   "cell_type": "code",
   "execution_count": 28,
   "metadata": {},
   "outputs": [],
   "source": [
    "data_train.loc[data_train['IDENTITY'] != 'UNREADABLE', \"IDENTITY\"] = \"READABLE\"\n",
    "data_valid.loc[data_valid['IDENTITY'] != 'UNREADABLE', \"IDENTITY\"] = \"READABLE\"\n",
    "data_test.loc[data_test['IDENTITY'] != 'UNREADABLE', \"IDENTITY\"] = \"READABLE\""
   ]
  },
  {
   "cell_type": "code",
   "execution_count": 49,
   "metadata": {
    "scrolled": false
   },
   "outputs": [],
   "source": [
    "Label_0_train = data_train.loc[data_train['IDENTITY'] != 'UNREADABLE', \"FILENAME\"].values.tolist()\n",
    "Label_1_train = data_train.loc[data_train['IDENTITY'] == 'UNREADABLE', \"FILENAME\"].values.tolist()"
   ]
  },
  {
   "cell_type": "code",
   "execution_count": 60,
   "metadata": {},
   "outputs": [],
   "source": [
    "Label_0_val = data_valid.loc[data_valid['IDENTITY'] != 'UNREADABLE', \"FILENAME\"].values.tolist()\n",
    "Label_1_val = data_valid.loc[data_valid['IDENTITY'] == 'UNREADABLE', \"FILENAME\"].values.tolist()"
   ]
  },
  {
   "cell_type": "code",
   "execution_count": 62,
   "metadata": {},
   "outputs": [],
   "source": [
    "Label_0_test = data_test.loc[data_test['IDENTITY'] != 'UNREADABLE', \"FILENAME\"].values.tolist()\n",
    "Label_1_test = data_test.loc[data_test['IDENTITY'] == 'UNREADABLE', \"FILENAME\"].values.tolist()"
   ]
  },
  {
   "cell_type": "code",
   "execution_count": 65,
   "metadata": {},
   "outputs": [
    {
     "name": "stdout",
     "output_type": "stream",
     "text": [
      "Jumlah Gambar Training yang Bisa Dibaca: 330281\n",
      "Jumlah Gambar Training yang Tidak Dapat Dibaca: 115\n",
      "Jumlah Gambar Validation yang Bisa Dibaca: 41280\n",
      "Jumlah Gambar Validation yang Tidak Dapat Dibaca: 12\n",
      "Jumlah Gambar Test yang Bisa Dibaca: 41288\n",
      "Jumlah Gambar Test yang Tidak Dapat Dibaca: 12\n"
     ]
    }
   ],
   "source": [
    "print('Jumlah Gambar Training yang Bisa Dibaca:', len(Label_0_train))\n",
    "print('Jumlah Gambar Training yang Tidak Dapat Dibaca:', len(Label_1_train))\n",
    "print('Jumlah Gambar Validation yang Bisa Dibaca:', len(Label_0_val))\n",
    "print('Jumlah Gambar Validation yang Tidak Dapat Dibaca:', len(Label_1_val))\n",
    "print('Jumlah Gambar Test yang Bisa Dibaca:', len(Label_0_test))\n",
    "print('Jumlah Gambar Test yang Tidak Dapat Dibaca:', len(Label_1_test))"
   ]
  },
  {
   "cell_type": "code",
   "execution_count": 70,
   "metadata": {},
   "outputs": [
    {
     "data": {
      "text/plain": [
       "['TRAIN_00001.jpg',\n",
       " 'TRAIN_00002.jpg',\n",
       " 'TRAIN_00003.jpg',\n",
       " 'TRAIN_00004.jpg',\n",
       " 'TRAIN_00005.jpg',\n",
       " 'TRAIN_00006.jpg',\n",
       " 'TRAIN_00007.jpg',\n",
       " 'TRAIN_00008.jpg',\n",
       " 'TRAIN_00009.jpg',\n",
       " 'TRAIN_00010.jpg']"
      ]
     },
     "execution_count": 70,
     "metadata": {},
     "output_type": "execute_result"
    }
   ],
   "source": [
    "Label_0_train[:10]"
   ]
  },
  {
   "cell_type": "code",
   "execution_count": 71,
   "metadata": {},
   "outputs": [],
   "source": [
    "SOURCE_TRAIN = \"./train_v2/train/\"\n",
    "TRAINING_0 = \"./ForTraining/0/\"\n",
    "TRAINING_1 = \"./ForTraining/1/\"\n",
    "\n",
    "os.makedirs(TRAINING_0)\n",
    "os.makedirs(TRAINING_1)\n",
    "\n",
    "for i in Label_0_train[:10000]:\n",
    "    source = os.path.join(SOURCE_TRAIN, i)\n",
    "    destination = os.path.join(TRAINING_0, i)\n",
    "    copyfile(source, destination)\n",
    "    \n",
    "for i in Label_1_train:\n",
    "    source = os.path.join(SOURCE_TRAIN, i)\n",
    "    destination = os.path.join(TRAINING_1, i)\n",
    "    copyfile(source, destination)"
   ]
  },
  {
   "cell_type": "code",
   "execution_count": 74,
   "metadata": {},
   "outputs": [],
   "source": [
    "SOURCE_VAL = \"./validation_v2/validation/\"\n",
    "VAL_0 = \"./ForValidation/0/\"\n",
    "VAL_1 = \"./ForValidation/1/\"\n",
    "\n",
    "os.makedirs(VAL_0)\n",
    "os.makedirs(VAL_1)\n",
    "\n",
    "for i in Label_0_val[:1000]:\n",
    "    source = os.path.join(SOURCE_VAL, i)\n",
    "    destination = os.path.join(VAL_0, i)\n",
    "    copyfile(source, destination)\n",
    "    \n",
    "for i in Label_1_val:\n",
    "    source = os.path.join(SOURCE_VAL, i)\n",
    "    destination = os.path.join(VAL_1, i)\n",
    "    copyfile(source, destination)"
   ]
  },
  {
   "cell_type": "code",
   "execution_count": 78,
   "metadata": {},
   "outputs": [],
   "source": [
    "SOURCE_TEST = \"./test_v2/test/\"\n",
    "TEST_0 = \"./ForTesting/0/\"\n",
    "TEST_1 = \"./ForTesting/1/\"\n",
    "\n",
    "os.makedirs(TEST_0)\n",
    "os.makedirs(TEST_1)\n",
    "\n",
    "for i in Label_0_test[:1000]:\n",
    "    source = os.path.join(SOURCE_TEST, i)\n",
    "    destination = os.path.join(TEST_0, i)\n",
    "    copyfile(source, destination)\n",
    "    \n",
    "for i in Label_1_test:\n",
    "    source = os.path.join(SOURCE_TEST, i)\n",
    "    destination = os.path.join(TEST_0, i)\n",
    "    copyfile(source, destination)"
   ]
  },
  {
   "cell_type": "code",
   "execution_count": 4,
   "metadata": {},
   "outputs": [],
   "source": [
    "from tensorflow.keras.preprocessing.image import ImageDataGenerator\n",
    "\n",
    "def train_val_generators(TRAINING_DIR, VALIDATION_DIR):\n",
    "  train_datagen = ImageDataGenerator(rescale=1./255)\n",
    "  train_generator = train_datagen.flow_from_directory(directory=TRAINING_DIR,\n",
    "                                                      batch_size=64,\n",
    "                                                      class_mode=\"binary\",\n",
    "                                                      target_size=(388, 36))\n",
    "  validation_datagen = ImageDataGenerator(rescale=1./255)\n",
    "  validation_generator = validation_datagen.flow_from_directory(directory=VALIDATION_DIR,\n",
    "                                                      batch_size=64,\n",
    "                                                      class_mode=\"binary\",\n",
    "                                                      target_size=(388,36))\n",
    "  return train_generator, validation_generator"
   ]
  },
  {
   "cell_type": "code",
   "execution_count": 5,
   "metadata": {},
   "outputs": [
    {
     "name": "stdout",
     "output_type": "stream",
     "text": [
      "Found 10115 images belonging to 2 classes.\n",
      "Found 1012 images belonging to 2 classes.\n"
     ]
    }
   ],
   "source": [
    "TRAINING_DIR = \"./ForTraining/\"\n",
    "VALIDATION_DIR = \"./ForValidation/\"\n",
    "train_generator, validation_generator = train_val_generators(TRAINING_DIR, VALIDATION_DIR)"
   ]
  },
  {
   "cell_type": "code",
   "execution_count": 7,
   "metadata": {},
   "outputs": [],
   "source": [
    "import tensorflow as tf\n",
    "\n",
    "# Build the model\n",
    "model = tf.keras.models.Sequential([\n",
    "    # This is the first convolution\n",
    "    tf.keras.layers.Conv2D(16, (3,3), activation='relu', input_shape=(388, 36, 3)),\n",
    "    tf.keras.layers.MaxPooling2D(2, 2),\n",
    "    # The third convolution\n",
    "    tf.keras.layers.Conv2D(32, (3,3), activation='relu'),\n",
    "    tf.keras.layers.MaxPooling2D(2,2),\n",
    "    # The fourth convolution\n",
    "    tf.keras.layers.Conv2D(64, (3,3), activation='relu'),\n",
    "    #Flatten the results to feed into a DNN\n",
    "    tf.keras.layers.Flatten(),\n",
    "    # 512 neuron hidden layer\n",
    "    tf.keras.layers.Dense(128, activation='relu'),\n",
    "    # Only 1 output neuron. It will contain a value from 0-1 where 0 for 1 class ('horses') and 1 for the other ('humans')\n",
    "    tf.keras.layers.Dense(1, activation='sigmoid')\n",
    "])"
   ]
  },
  {
   "cell_type": "code",
   "execution_count": 8,
   "metadata": {},
   "outputs": [],
   "source": [
    "from tensorflow.keras.optimizers import RMSprop\n",
    "\n",
    "# Set training parameters\n",
    "model.compile(loss='binary_crossentropy',\n",
    "              optimizer=RMSprop(learning_rate=1e-4),\n",
    "              metrics=['accuracy'])"
   ]
  },
  {
   "cell_type": "code",
   "execution_count": 9,
   "metadata": {},
   "outputs": [
    {
     "name": "stdout",
     "output_type": "stream",
     "text": [
      "Epoch 1/20\n",
      "10/10 [==============================] - 4s 357ms/step - loss: 0.1302 - accuracy: 0.8953 - val_loss: 0.0643 - val_accuracy: 0.9881\n",
      "Epoch 2/20\n",
      "10/10 [==============================] - 3s 326ms/step - loss: 0.0469 - accuracy: 0.9922 - val_loss: 0.0690 - val_accuracy: 0.9881\n",
      "Epoch 3/20\n",
      "10/10 [==============================] - 3s 330ms/step - loss: 0.0773 - accuracy: 0.9859 - val_loss: 0.0642 - val_accuracy: 0.9881\n",
      "Epoch 4/20\n",
      "10/10 [==============================] - 3s 327ms/step - loss: 0.0311 - accuracy: 0.9953 - val_loss: 0.0663 - val_accuracy: 0.9881\n",
      "Epoch 5/20\n",
      "10/10 [==============================] - 3s 332ms/step - loss: 0.0576 - accuracy: 0.9906 - val_loss: 0.0652 - val_accuracy: 0.9881\n",
      "Epoch 6/20\n",
      "10/10 [==============================] - 3s 330ms/step - loss: 0.0616 - accuracy: 0.9891 - val_loss: 0.0670 - val_accuracy: 0.9881\n",
      "Epoch 7/20\n",
      "10/10 [==============================] - 3s 340ms/step - loss: 0.0518 - accuracy: 0.9906 - val_loss: 0.0744 - val_accuracy: 0.9881\n",
      "Epoch 8/20\n",
      "10/10 [==============================] - 3s 334ms/step - loss: 0.0833 - accuracy: 0.9859 - val_loss: 0.0621 - val_accuracy: 0.9881\n",
      "Epoch 9/20\n",
      "10/10 [==============================] - 3s 344ms/step - loss: 0.0686 - accuracy: 0.9879 - val_loss: 0.0620 - val_accuracy: 0.9881\n",
      "Epoch 10/20\n",
      "10/10 [==============================] - 3s 340ms/step - loss: 0.0512 - accuracy: 0.9922 - val_loss: 0.0646 - val_accuracy: 0.9881\n",
      "Epoch 11/20\n",
      "10/10 [==============================] - 4s 363ms/step - loss: 0.0864 - accuracy: 0.9828 - val_loss: 0.0603 - val_accuracy: 0.9881\n",
      "Epoch 12/20\n",
      "10/10 [==============================] - 3s 317ms/step - loss: 0.0659 - accuracy: 0.9891 - val_loss: 0.0615 - val_accuracy: 0.9881\n",
      "Epoch 13/20\n",
      "10/10 [==============================] - 3s 306ms/step - loss: 0.0423 - accuracy: 0.9931 - val_loss: 0.0672 - val_accuracy: 0.9881\n",
      "Epoch 14/20\n",
      "10/10 [==============================] - 3s 313ms/step - loss: 0.0669 - accuracy: 0.9879 - val_loss: 0.0604 - val_accuracy: 0.9881\n",
      "Epoch 15/20\n",
      "10/10 [==============================] - 3s 334ms/step - loss: 0.0695 - accuracy: 0.9875 - val_loss: 0.0609 - val_accuracy: 0.9881\n",
      "Epoch 16/20\n",
      "10/10 [==============================] - 3s 332ms/step - loss: 0.0659 - accuracy: 0.9875 - val_loss: 0.0747 - val_accuracy: 0.9881\n",
      "Epoch 17/20\n",
      "10/10 [==============================] - 3s 346ms/step - loss: 0.0478 - accuracy: 0.9922 - val_loss: 0.0626 - val_accuracy: 0.9881\n",
      "Epoch 18/20\n",
      "10/10 [==============================] - 3s 325ms/step - loss: 0.0566 - accuracy: 0.9891 - val_loss: 0.0571 - val_accuracy: 0.9881\n",
      "Epoch 19/20\n",
      "10/10 [==============================] - 3s 342ms/step - loss: 0.0496 - accuracy: 0.9922 - val_loss: 0.0572 - val_accuracy: 0.9881\n",
      "Epoch 20/20\n",
      "10/10 [==============================] - 3s 322ms/step - loss: 0.0552 - accuracy: 0.9891 - val_loss: 0.0565 - val_accuracy: 0.9881\n"
     ]
    }
   ],
   "source": [
    "history_ = model.fit(\n",
    "      train_generator,\n",
    "      steps_per_epoch=10,  \n",
    "      epochs=20,\n",
    "      verbose=1,\n",
    "      validation_data = validation_generator)"
   ]
  },
  {
   "cell_type": "code",
   "execution_count": 12,
   "metadata": {},
   "outputs": [
    {
     "name": "stdout",
     "output_type": "stream",
     "text": [
      "Found 41370 images belonging to 1 classes.\n",
      "['TEST_0001.jpg', 'TEST_0002.jpg', 'TEST_0003.jpg', 'TEST_0004.jpg', 'TEST_0005.jpg', 'TEST_0006.jpg', 'TEST_0007.jpg', 'TEST_0008.jpg', 'TEST_0009.jpg', 'TEST_0010.jpg']\n"
     ]
    },
    {
     "data": {
      "text/plain": [
       "41370"
      ]
     },
     "execution_count": 12,
     "metadata": {},
     "output_type": "execute_result"
    }
   ],
   "source": [
    "datagen = ImageDataGenerator(rescale=1./255)\n",
    "test_generator = datagen.flow_from_directory(\"./test_v2/\", classes=['test'], target_size=(388,36), shuffle = False)\n",
    "\n",
    "file_name_images = [i[5:] for i in test_generator.filenames]\n",
    "print(file_name_images[:10])\n",
    "len(file_name_images)"
   ]
  },
  {
   "cell_type": "code",
   "execution_count": 13,
   "metadata": {},
   "outputs": [],
   "source": [
    "classes_test = model.predict(test_generator)"
   ]
  },
  {
   "cell_type": "code",
   "execution_count": 33,
   "metadata": {},
   "outputs": [
    {
     "data": {
      "text/plain": [
       "[0, 0, 0, 0, 0, 0, 0, 0, 0, 0]"
      ]
     },
     "execution_count": 33,
     "metadata": {},
     "output_type": "execute_result"
    }
   ],
   "source": [
    "label_test = []\n",
    "for i in classes_test: \n",
    "  if i[0] > 0.12:\n",
    "    label_test.append(1)\n",
    "  else:\n",
    "    label_test.append(0)\n",
    "label_test[:10]"
   ]
  },
  {
   "cell_type": "code",
   "execution_count": 34,
   "metadata": {},
   "outputs": [
    {
     "data": {
      "text/html": [
       "<div>\n",
       "<style scoped>\n",
       "    .dataframe tbody tr th:only-of-type {\n",
       "        vertical-align: middle;\n",
       "    }\n",
       "\n",
       "    .dataframe tbody tr th {\n",
       "        vertical-align: top;\n",
       "    }\n",
       "\n",
       "    .dataframe thead th {\n",
       "        text-align: right;\n",
       "    }\n",
       "</style>\n",
       "<table border=\"1\" class=\"dataframe\">\n",
       "  <thead>\n",
       "    <tr style=\"text-align: right;\">\n",
       "      <th></th>\n",
       "      <th>FILENAME</th>\n",
       "      <th>LABEL</th>\n",
       "    </tr>\n",
       "  </thead>\n",
       "  <tbody>\n",
       "    <tr>\n",
       "      <th>762</th>\n",
       "      <td>TEST_0763.jpg</td>\n",
       "      <td>1</td>\n",
       "    </tr>\n",
       "    <tr>\n",
       "      <th>2723</th>\n",
       "      <td>TEST_11567.jpg</td>\n",
       "      <td>1</td>\n",
       "    </tr>\n",
       "    <tr>\n",
       "      <th>4483</th>\n",
       "      <td>TEST_13167.jpg</td>\n",
       "      <td>1</td>\n",
       "    </tr>\n",
       "    <tr>\n",
       "      <th>7599</th>\n",
       "      <td>TEST_1600.jpg</td>\n",
       "      <td>1</td>\n",
       "    </tr>\n",
       "    <tr>\n",
       "      <th>12150</th>\n",
       "      <td>TEST_20137.jpg</td>\n",
       "      <td>1</td>\n",
       "    </tr>\n",
       "    <tr>\n",
       "      <th>20990</th>\n",
       "      <td>TEST_28173.jpg</td>\n",
       "      <td>1</td>\n",
       "    </tr>\n",
       "    <tr>\n",
       "      <th>22720</th>\n",
       "      <td>TEST_29746.jpg</td>\n",
       "      <td>1</td>\n",
       "    </tr>\n",
       "    <tr>\n",
       "      <th>25987</th>\n",
       "      <td>TEST_32716.jpg</td>\n",
       "      <td>1</td>\n",
       "    </tr>\n",
       "    <tr>\n",
       "      <th>26331</th>\n",
       "      <td>TEST_33029.jpg</td>\n",
       "      <td>1</td>\n",
       "    </tr>\n",
       "    <tr>\n",
       "      <th>32534</th>\n",
       "      <td>TEST_38668.jpg</td>\n",
       "      <td>1</td>\n",
       "    </tr>\n",
       "    <tr>\n",
       "      <th>34405</th>\n",
       "      <td>TEST_40369.jpg</td>\n",
       "      <td>1</td>\n",
       "    </tr>\n",
       "    <tr>\n",
       "      <th>34810</th>\n",
       "      <td>TEST_40737.jpg</td>\n",
       "      <td>1</td>\n",
       "    </tr>\n",
       "    <tr>\n",
       "      <th>35664</th>\n",
       "      <td>TEST_4294.jpg</td>\n",
       "      <td>1</td>\n",
       "    </tr>\n",
       "    <tr>\n",
       "      <th>41354</th>\n",
       "      <td>TEST_9984.jpg</td>\n",
       "      <td>1</td>\n",
       "    </tr>\n",
       "  </tbody>\n",
       "</table>\n",
       "</div>"
      ],
      "text/plain": [
       "             FILENAME  LABEL\n",
       "762     TEST_0763.jpg      1\n",
       "2723   TEST_11567.jpg      1\n",
       "4483   TEST_13167.jpg      1\n",
       "7599    TEST_1600.jpg      1\n",
       "12150  TEST_20137.jpg      1\n",
       "20990  TEST_28173.jpg      1\n",
       "22720  TEST_29746.jpg      1\n",
       "25987  TEST_32716.jpg      1\n",
       "26331  TEST_33029.jpg      1\n",
       "32534  TEST_38668.jpg      1\n",
       "34405  TEST_40369.jpg      1\n",
       "34810  TEST_40737.jpg      1\n",
       "35664   TEST_4294.jpg      1\n",
       "41354   TEST_9984.jpg      1"
      ]
     },
     "execution_count": 34,
     "metadata": {},
     "output_type": "execute_result"
    }
   ],
   "source": [
    "import pandas as pd\n",
    "\n",
    "test_df = pd.DataFrame() \n",
    "test_df[\"FILENAME\"] = file_name_images\n",
    "test_df[\"LABEL\"] = label_test\n",
    "\n",
    "test_df[test_df[\"LABEL\"] == 1]"
   ]
  }
 ],
 "metadata": {
  "kernelspec": {
   "display_name": "Python 3",
   "language": "python",
   "name": "python3"
  },
  "language_info": {
   "codemirror_mode": {
    "name": "ipython",
    "version": 3
   },
   "file_extension": ".py",
   "mimetype": "text/x-python",
   "name": "python",
   "nbconvert_exporter": "python",
   "pygments_lexer": "ipython3",
   "version": "3.8.3"
  }
 },
 "nbformat": 4,
 "nbformat_minor": 4
}
